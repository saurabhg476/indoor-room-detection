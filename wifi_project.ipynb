{
 "cells": [
  {
   "cell_type": "code",
   "execution_count": 145,
   "metadata": {
    "collapsed": true
   },
   "outputs": [],
   "source": [
    "import pandas as pd\n",
    "import numpy as np\n",
    "import matplotlib.pyplot as plt  \n",
    "from sklearn import linear_model\n",
    "from sklearn.model_selection import train_test_split\n",
    "from sklearn.model_selection import learning_curve\n",
    "\n",
    "#ignore pandas chained assignment warnings\n",
    "pd.options.mode.chained_assignment = None\n",
    "\n",
    "\n",
    "df1 = pd.read_csv(\"/home/saurabh/machine_learning/wifi_project/raw_data/data_saurabh.csv\")\n",
    "df2 = pd.read_csv(\"/home/saurabh/machine_learning/wifi_project/raw_data/data_yash.csv\")\n",
    "df3 = pd.read_csv(\"/home/saurabh/machine_learning/wifi_project/raw_data/data_sayan.csv\")"
   ]
  },
  {
   "cell_type": "code",
   "execution_count": 146,
   "metadata": {},
   "outputs": [],
   "source": [
    "#list_of_columns = df.describe().transpose()[df.describe().transpose()['count'] > 800.0]['count'].index.values.tolist()\n",
    "#list_of_columns.remove('207_1_Guest')\n",
    "#list_of_columns\n",
    "#df = df[list_of_columns]\n",
    "list_of_columns = ['207_1','207_3','Home-Airtel-2','Home-Airtel-2_5G','Home-Airtel']\n",
    "df1 = df1[list_of_columns]\n",
    "df2 = df2[list_of_columns]\n",
    "df3 = df3[list_of_columns]\n",
    "\n",
    "df1.fillna(method='ffill',inplace=True)\n",
    "df1.fillna(method='bfill',inplace=True)\n",
    "df2.fillna(method='ffill',inplace=True)\n",
    "df2.fillna(method='bfill',inplace=True)\n",
    "df3.fillna(method='ffill',inplace=True)\n",
    "df3.fillna(method='bfill',inplace=True)\n",
    "\n",
    "df1['output'] = pd.Series(np.ones(df1.shape[0]), index=df1.index)\n",
    "df2['output'] = pd.Series(np.ones(df2.shape[0]), index=df2.index) * 2\n",
    "df3['output'] = pd.Series(np.ones(df3.shape[0]), index=df3.index) * 3\n",
    "\n",
    "frames = [df1,df2,df3]\n",
    "df = pd.concat(frames,ignore_index=True)\n",
    "X = df.iloc[:,0:5]\n",
    "y = df.iloc[:,5]\n",
    "\n",
    "\n",
    "#df.columns.values"
   ]
  },
  {
   "cell_type": "code",
   "execution_count": 147,
   "metadata": {},
   "outputs": [],
   "source": [
    "# #data visualizations!!!!!\n",
    "# fig=plt.figure() \n",
    "# ax = fig.add_subplot(1,1,1)\n",
    "\n",
    "\n",
    "# # ax.hist(df['Home-Airtel-2_5G'],bins = 20) \n",
    "# # plt.title('histogram of wifi 207_1')\n",
    "# # plt.xlabel('strenth')\n",
    "# # plt.ylabel('frequency')\n",
    "# # plt.show()\n",
    "\n",
    "# ax.plot(df[df['output']==1]['207_1'],df[df['output']==1]['207_3'],'ro')\n",
    "# ax.plot(df[df['output']==2]['207_1'],df[df['output']==2]['207_3'],'gx')\n",
    "# plt.title('wifi strength distribution of 207_1 and 207_3')\n",
    "# plt.xlabel('207_1')\n",
    "# plt.ylabel('207_3')\n",
    "# plt.show()"
   ]
  },
  {
   "cell_type": "code",
   "execution_count": 148,
   "metadata": {},
   "outputs": [
    {
     "name": "stdout",
     "output_type": "stream",
     "text": [
      "train-set accuracy:  0.923957179771\n",
      "test-set accuracy:  0.928610957388\n"
     ]
    }
   ],
   "source": [
    "\n",
    "#print(X)\n",
    "#print(y)\n",
    "\n",
    "X_train,X_test,y_train,y_test = train_test_split(X,y,test_size=0.40)\n",
    "#print(X_train.head(5))\n",
    "model = linear_model.LogisticRegression()\n",
    "model.fit(X_train,y_train)\n",
    "print(\"train-set accuracy: \",model.score(X_train,y_train))\n",
    "print(\"test-set accuracy: \",model.score(X_test,y_test))"
   ]
  },
  {
   "cell_type": "code",
   "execution_count": 149,
   "metadata": {
    "collapsed": true
   },
   "outputs": [],
   "source": [
    "#plotting learning curves\n",
    "#train_sizes, train_scores, valid_scores = \\\n",
    "#learning_curve(linear_model.LogisticRegression() \\\n",
    "#               , X_train, y_train, train_sizes=[50, 80, 110], cv=5)\n",
    "# print(train_sizes)\n",
    "# print(train_scores)\n",
    "# print(valid_scores)\n",
    "\n",
    "#plt.plot(train_scores, 'ro',valid_scores, 'bs')\n",
    "#plt.show()"
   ]
  },
  {
   "cell_type": "code",
   "execution_count": null,
   "metadata": {
    "collapsed": true
   },
   "outputs": [],
   "source": []
  }
 ],
 "metadata": {
  "kernelspec": {
   "display_name": "Python 3",
   "language": "python",
   "name": "python3"
  },
  "language_info": {
   "codemirror_mode": {
    "name": "ipython",
    "version": 3
   },
   "file_extension": ".py",
   "mimetype": "text/x-python",
   "name": "python",
   "nbconvert_exporter": "python",
   "pygments_lexer": "ipython3",
   "version": "3.6.3"
  }
 },
 "nbformat": 4,
 "nbformat_minor": 2
}
