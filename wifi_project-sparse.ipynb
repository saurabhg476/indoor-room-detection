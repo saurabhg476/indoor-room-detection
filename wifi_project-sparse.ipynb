{
 "cells": [
  {
   "cell_type": "code",
   "execution_count": 204,
   "metadata": {
    "collapsed": true
   },
   "outputs": [],
   "source": [
    "import pandas as pd\n",
    "import numpy as np\n",
    "import matplotlib.pyplot as plt  \n",
    "from sklearn import linear_model\n",
    "from sklearn.model_selection import train_test_split\n",
    "from sklearn.model_selection import learning_curve\n",
    "\n",
    "#pandas setting\n",
    "#ignore pandas chained assignment warnings\n",
    "pd.options.mode.chained_assignment = None\n",
    "#set maximum rows to display \n",
    "pd.options.display.max_rows = 120\n",
    "\n",
    "\n",
    "df1 = pd.read_csv(\"/home/saurabh/machine_learning/wifi_project/raw_data/data_saurabh.csv\")\n",
    "df2 = pd.read_csv(\"/home/saurabh/machine_learning/wifi_project/raw_data/data_yash.csv\")\n",
    "df3 = pd.read_csv(\"/home/saurabh/machine_learning/wifi_project/raw_data/data_sayan.csv\")"
   ]
  },
  {
   "cell_type": "code",
   "execution_count": 205,
   "metadata": {},
   "outputs": [],
   "source": [
    "df1['output'] = pd.Series(np.ones(df1.shape[0]), index=df1.index)\n",
    "df2['output'] = pd.Series(np.ones(df2.shape[0]), index=df2.index) * 2\n",
    "df3['output'] = pd.Series(np.ones(df3.shape[0]), index=df3.index) * 3\n",
    "\n",
    "frames = [df1,df2,df3]\n",
    "df = pd.concat(frames,ignore_index=True)\n",
    "\n",
    "#finding all columns which have at least 100 values.\n",
    "list_of_columns = df.describe().transpose()[df.describe().transpose()['count'] > 100].index.values\n",
    "\n",
    "index_of_output = np.where(list_of_columns == 'output')[0][0]\n",
    "index_of_207_2_wifi = np.where(list_of_columns == '207_2')[0][0]\n",
    "\n",
    "arr= [index_of_output, index_of_207_2_wifi]\n",
    "X = df[np.delete(list_of_columns,arr)]\n",
    "X.fillna(0,inplace=True)\n",
    "y = df['output']\n",
    "\n",
    "#print(X.info())\n",
    "#print(y.describe())\n",
    "\n",
    "#df.columns.values"
   ]
  },
  {
   "cell_type": "code",
   "execution_count": 206,
   "metadata": {
    "collapsed": true
   },
   "outputs": [],
   "source": [
    "# #data visualizations!!!!!\n",
    "# fig=plt.figure() \n",
    "# ax = fig.add_subplot(1,1,1)\n",
    "\n",
    "\n",
    "# # ax.hist(df['Home-Airtel-2_5G'],bins = 20) \n",
    "# # plt.title('histogram of wifi 207_1')\n",
    "# # plt.xlabel('strenth')\n",
    "# # plt.ylabel('frequency')\n",
    "# # plt.show()\n",
    "\n",
    "# ax.plot(df[df['output']==1]['207_1'],df[df['output']==1]['207_3'],'ro')\n",
    "# ax.plot(df[df['output']==2]['207_1'],df[df['output']==2]['207_3'],'gx')\n",
    "# plt.title('wifi strength distribution of 207_1 and 207_3')\n",
    "# plt.xlabel('207_1')\n",
    "# plt.ylabel('207_3')\n",
    "# plt.show()"
   ]
  },
  {
   "cell_type": "code",
   "execution_count": 207,
   "metadata": {},
   "outputs": [
    {
     "name": "stdout",
     "output_type": "stream",
     "text": [
      "train-set accuracy:  0.985603543743\n",
      "test-set accuracy:  0.986164914222\n",
      "['207_1' '207_1_Guest' '207_3' '@nu' 'AndroidAP' 'Ankur' 'Bing7777777'\n",
      " 'Chandra Row3' 'Chandrapg3' 'Crack_Nozzle' 'D-Link_DIR-615' 'DHAR'\n",
      " 'Debasree' 'Deepak' 'Dekhle_Hobe_khorcha_Aache!' 'EverGreen'\n",
      " 'Get Lost .. Its not yours' 'Home-Airtel' 'Home-Airtel-2'\n",
      " 'Home-Airtel-2_5G' 'Lotus 2nd floor 1' 'Lotus pg 5th Floor'\n",
      " 'Lotus pg basement' 'Lotus4thfloor1' 'Lotus6thfloor615' 'MGMNT'\n",
      " 'Meet_your_Makers' 'Moto G (5) Plus 1910' 'NikhilSai3floor'\n",
      " 'NikhilSai4thFloor' 'Princess Leia' 'SalehMohamed' 'The creep next door'\n",
      " 'aaranshu2016' 'happylokayogaclasses' 'manepalli' 'masha' 'sanchit'\n",
      " 'susheelaa' 'virus']\n",
      "[[  6.29252517e-02   1.65294399e-02  -1.39118123e-03   8.83360401e-02\n",
      "   -1.60077861e-02   2.31767333e-02  -1.18209999e-02   3.75600122e-02\n",
      "    9.34113011e-02   3.22094653e-03  -4.74433478e-02   4.06237228e-02\n",
      "   -1.62717302e-02  -2.32084406e-02   2.48340306e-02   2.89665326e-02\n",
      "   -1.21156084e-02  -4.14448232e-02   7.74535079e-02  -2.15653129e-03\n",
      "   -7.24875471e-03   8.46826316e-03  -1.72801468e-02   1.33861008e-04\n",
      "   -2.15061025e-04  -4.46769958e-02   1.20135098e-01   1.40670030e-01\n",
      "    8.52960101e-02   9.95144195e-02   8.34886877e-02  -6.56691762e-02\n",
      "    9.76741510e-02   3.36749393e-02   1.75266095e-02  -3.53392804e-02\n",
      "   -7.21946967e-03  -4.59506937e-02   2.67057908e-02  -4.22842687e-03]\n",
      " [ -9.12124773e-02   8.19637960e-02   1.07250647e-02   6.54528057e-02\n",
      "    1.32535366e-01   5.45036272e-02   1.44819047e-01  -3.95852490e-02\n",
      "   -1.06521356e-01  -1.98617264e-03   2.90555081e-02  -6.03113282e-02\n",
      "    1.19595270e-02   8.98685286e-02  -2.53785987e-02  -3.75647543e-02\n",
      "    1.91745338e-03   7.21985415e-02  -6.75975484e-02   6.42975390e-02\n",
      "    1.76040091e-02  -1.14305543e-02   1.43499750e-01  -5.17309131e-03\n",
      "   -1.52281883e-02   1.83881219e-01  -1.50558638e-01   8.20390500e-02\n",
      "   -8.44116330e-02  -1.00648705e-01  -2.48654842e-02  -5.24557880e-02\n",
      "    4.42025926e-02  -7.55130456e-02  -6.58706087e-03  -5.03179557e-04\n",
      "    7.02861031e-02   9.68293214e-02   2.21289821e-02   1.48267500e-03]\n",
      " [ -2.68446849e-02  -2.66512051e-02  -1.08401032e-02  -1.15967069e-02\n",
      "   -1.31078169e-02  -4.10843645e-02  -9.98476740e-02  -7.40228793e-02\n",
      "    3.58560352e-03   1.16098500e-02   7.36519575e-02   2.94930545e-02\n",
      "    6.93055151e-03   7.94596586e-03  -4.67725511e-02   4.31364946e-02\n",
      "    8.41028230e-03  -4.11712718e-02   9.67875796e-02  -8.93467660e-02\n",
      "    2.99069352e-03  -6.03787115e-02  -6.55123315e-02  -4.11016059e-03\n",
      "    8.52293493e-03   4.23635959e-03   4.49910540e-02  -4.46744054e-02\n",
      "    4.13519775e-03   3.06172461e-03   3.09086461e-04   3.19586948e-01\n",
      "   -3.61262030e-02   4.56739269e-02   4.62481125e-02   1.28809713e-01\n",
      "   -2.16983507e-02   7.92133009e-03  -3.90713059e-02   3.44668225e-02]]\n",
      "[ 0.0007686   0.04422357 -0.00128067]\n",
      "{'C': 1.0, 'class_weight': None, 'dual': False, 'fit_intercept': True, 'intercept_scaling': 1, 'max_iter': 100, 'multi_class': 'ovr', 'n_jobs': 1, 'penalty': 'l2', 'random_state': None, 'solver': 'liblinear', 'tol': 0.0001, 'verbose': 0, 'warm_start': False}\n"
     ]
    }
   ],
   "source": [
    "\n",
    "#print(X)\n",
    "#print(y)\n",
    "\n",
    "X_train,X_test,y_train,y_test = train_test_split(X,y,test_size=0.40)\n",
    "#print(X_train.head(5))\n",
    "model = linear_model.LogisticRegression()\n",
    "model.fit(X_train,y_train)\n",
    "print(\"train-set accuracy: \",model.score(X_train,y_train))\n",
    "print(\"test-set accuracy: \",model.score(X_test,y_test))\n",
    "print(X.columns.values)\n",
    "print(model.coef_)\n",
    "print(model.intercept_)\n",
    "print(model.get_params())"
   ]
  },
  {
   "cell_type": "code",
   "execution_count": 208,
   "metadata": {
    "collapsed": true
   },
   "outputs": [],
   "source": [
    "#plotting learning curves\n",
    "#train_sizes, train_scores, valid_scores = \\\n",
    "#learning_curve(linear_model.LogisticRegression() \\\n",
    "#               , X_train, y_train, train_sizes=[50, 80, 110], cv=5)\n",
    "# print(train_sizes)\n",
    "# print(train_scores)\n",
    "# print(valid_scores)\n",
    "\n",
    "#plt.plot(train_scores, 'ro',valid_scores, 'bs')\n",
    "#plt.show()"
   ]
  },
  {
   "cell_type": "code",
   "execution_count": null,
   "metadata": {
    "collapsed": true
   },
   "outputs": [],
   "source": []
  }
 ],
 "metadata": {
  "kernelspec": {
   "display_name": "Python 3",
   "language": "python",
   "name": "python3"
  },
  "language_info": {
   "codemirror_mode": {
    "name": "ipython",
    "version": 3
   },
   "file_extension": ".py",
   "mimetype": "text/x-python",
   "name": "python",
   "nbconvert_exporter": "python",
   "pygments_lexer": "ipython3",
   "version": "3.6.3"
  }
 },
 "nbformat": 4,
 "nbformat_minor": 2
}
